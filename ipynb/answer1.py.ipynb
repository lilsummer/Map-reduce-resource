{
 "cells": [
  {
   "cell_type": "code",
   "execution_count": 1,
   "metadata": {
    "collapsed": true
   },
   "outputs": [],
   "source": [
    "import pandas as pd"
   ]
  },
  {
   "cell_type": "code",
   "execution_count": 8,
   "metadata": {
    "collapsed": false
   },
   "outputs": [
    {
     "data": {
      "text/plain": [
       "0.0560272596"
      ]
     },
     "execution_count": 8,
     "metadata": {},
     "output_type": "execute_result"
    }
   ],
   "source": [
    "da = pd.read_csv('answer1.csv', header = None)\n",
    "da.columns = ('key', 'value')\n",
    "round(da.value[0],11)"
   ]
  },
  {
   "cell_type": "code",
   "execution_count": 9,
   "metadata": {
    "collapsed": false
   },
   "outputs": [],
   "source": [
    "answer = []\n",
    "\n",
    "for i in range(0,100):\n",
    "    link1 = da.key.str.strip('[]')[i].split(',')[0].strip('\"')\n",
    "    link2 = da.key.str.strip('[]')[i].split(',')[1].strip('\"')\n",
    "    value = round(da.value[i],11)\n",
    "    answer.append(((link1,link2),value))"
   ]
  },
  {
   "cell_type": "code",
   "execution_count": 10,
   "metadata": {
    "collapsed": false
   },
   "outputs": [
    {
     "data": {
      "text/plain": [
       "[(('list of cities in idaho', 'united states'), 0.0560272596),\n",
       " (('communes of the alpes-maritimes department', 'france'), 0.0560988919),\n",
       " (('idaho', 'list of cities in idaho'), 0.0561507552),\n",
       " (('list of cities in arkansas', 'united states'), 0.0567669083),\n",
       " (('communes of the vaucluse department', 'vaucluse'), 0.0575749555),\n",
       " (('communes of the ain department', 'departments of france'), 0.0582128748),\n",
       " (('communes of france', 'communes of the vaucluse department'), 0.0572636992),\n",
       " (('communes of the ain department', 'france'), 0.058297639),\n",
       " (('ain', 'communes of the ain department'), 0.0580606608),\n",
       " (('city', 'list of cities in oklahoma'), 0.0576108647),\n",
       " (('communes of the vaucluse department', \"provence-alpes-c\\\\u00f4te d'azur\"),\n",
       "  0.0576379507),\n",
       " (('communes of france', 'communes of the gironde department'), 0.0602983487),\n",
       " (('communes of france', 'communes of the sarthe department'), 0.0589992566),\n",
       " (('communes of the calvados department', 'france'), 0.0601003387),\n",
       " (('communes of the alpes-maritimes department',\n",
       "   \"provence-alpes-c\\\\u00f4te d'azur\"),\n",
       "  0.0575646092),\n",
       " (('latvia', 'list of settlements in latvia'), 0.0586701077),\n",
       " (('communes of the sarthe department', 'regions of france'), 0.0590293328),\n",
       " (('list of cities in oklahoma', 'oklahoma'), 0.0587062762),\n",
       " (('communes of the ard\\\\u00e8che department', 'departments of france'),\n",
       "  0.0583158068),\n",
       " (('communes of the vaucluse department', 'france'), 0.0584699048),\n",
       " (('list of settlements in latvia', 'town rights'), 0.0580727361),\n",
       " (('commune in romania', 'dolj county'), 0.0580277581),\n",
       " (('communes of the ain department', 'regions of france'), 0.0581202218),\n",
       " (('communes of the pas-de-calais department', 'regions of france'),\n",
       "  0.0607083425),\n",
       " (('communes of the pas-de-calais department', 'france'), 0.0609687933),\n",
       " (('communes of the calvados department', 'regions of france'), 0.0599421481),\n",
       " (('communes of the aisne department', 'regions of france'), 0.0610836628),\n",
       " (('list of cities in indiana', 'united states'), 0.0634359989),\n",
       " (('communes of the ard\\\\u00e8che department', 'france'), 0.0602199144),\n",
       " (('communes of the ain department', 'rh\\\\u00f4ne-alpes'), 0.0587383491),\n",
       " (('communes of france', 'communes of the pas-de-calais department'),\n",
       "  0.0607600609),\n",
       " (('list of cities in oklahoma', 'united states'), 0.0587481522),\n",
       " (('city', 'list of cities in iowa'), 0.0604524998),\n",
       " (('communes of the gironde department', 'gironde'), 0.0603018967),\n",
       " (('basse-normandie', 'communes of the calvados department'), 0.0599737718),\n",
       " (('communes of the sarthe department', 'france'), 0.059377159),\n",
       " (('albania', 'districts of albania'), 0.0614753188),\n",
       " (('english premiership (rugby union)', 'sale sharks'), 0.0682106093),\n",
       " (('ard\\\\u00e8che', 'communes of the ard\\\\u00e8che department'), 0.0621361423),\n",
       " (('communes of the sarthe department', 'pays de la loire'), 0.0591497004),\n",
       " (('iowa', 'list of cities in iowa'), 0.0608208568),\n",
       " (('communes of the sarthe department', 'sarthe'), 0.05900432),\n",
       " (('communes of the gironde department', 'regions of france'), 0.0603194235),\n",
       " (('communes of france', 'communes of the ain department'), 0.0580561096),\n",
       " (('communes of the pas-de-calais department', 'pas-de-calais'), 0.0608121866),\n",
       " (('j. league division 1', 'japan soccer league'), 0.0588555132),\n",
       " (('aquitaine', 'communes of the gironde department'), 0.0603979106),\n",
       " (('communes of the mayenne department', 'pays de la loire'), 0.0669321295),\n",
       " (('communes of the aisne department', 'picardie'), 0.0610665898),\n",
       " (('communes of the mayenne department', 'france'), 0.0648228717),\n",
       " (('communes of the vend\\\\u00e9e department', 'vend\\\\u00e9e'), 0.0672795312),\n",
       " (('communes of the pyr\\\\u00e9n\\\\u00e9es-atlantiques department', 'france'),\n",
       "  0.0684581211),\n",
       " (('calvados (department)', 'communes of the calvados department'),\n",
       "  0.0626536971),\n",
       " (('english premiership (rugby union)', 'exeter chiefs'), 0.0808329316),\n",
       " (('english premiership (rugby union)', 'worcester warriors'), 0.0756879877),\n",
       " (('bath rugby', 'english premiership (rugby union)'), 0.0739162093),\n",
       " (('communes of the vend\\\\u00e9e department', 'france'), 0.0677726079),\n",
       " (('list of cities in iowa', 'united states'), 0.0605304261),\n",
       " (('communes of the pas-de-calais department', 'departments of france'),\n",
       "  0.0608264846),\n",
       " (('communes of the sarthe department', 'departments of france'),\n",
       "  0.0591622068),\n",
       " (('dolj county', 'romania'), 0.0626554557),\n",
       " (('english premiership (rugby union)', 'london wasps'), 0.0723945857),\n",
       " (('aisne', 'communes of the aisne department'), 0.061071908),\n",
       " (('communes of the yonne department', 'departments of france'), 0.0684292421),\n",
       " (('japan national football team', 'list of japan international footballers'),\n",
       "  0.099089142),\n",
       " (('football league championship', 'football league one'), 0.0774508625),\n",
       " (('communes of the mayenne department', 'mayenne'), 0.0643065237),\n",
       " (('communes of the gironde department', 'departments of france'),\n",
       "  0.060406674),\n",
       " (('football league one', 'football league two'), 0.0735418446),\n",
       " (('communes of the gironde department', 'france'), 0.0606020975),\n",
       " (('allier', 'communes of the allier department'), 0.0674693895),\n",
       " (('communes of the pyr\\\\u00e9n\\\\u00e9es-atlantiques department',\n",
       "   'departments of france'),\n",
       "  0.0683007028),\n",
       " (('communes of france', 'communes of the mayenne department'), 0.0643153824),\n",
       " (('commune in france',\n",
       "   'communes of the pyr\\\\u00e9n\\\\u00e9es-atlantiques department'),\n",
       "  0.0681975947),\n",
       " (('list of cities in illinois', 'united states'), 0.0677003375),\n",
       " (('communes of the yonne department', 'yonne'), 0.0683152112),\n",
       " (('english premiership (rugby union)', 'gloucester rugby'), 0.0823510609),\n",
       " (('communes of the pyr\\\\u00e9n\\\\u00e9es-atlantiques department',\n",
       "   'pyr\\\\u00e9n\\\\u00e9es-atlantiques'),\n",
       "  0.0682442539),\n",
       " (('english premiership (rugby union)', 'leicester tigers'), 0.07861844),\n",
       " (('city', 'list of cities in illinois'), 0.0654142243),\n",
       " (('indiana', 'list of cities in indiana'), 0.0649191534),\n",
       " (('english premiership (rugby union)', 'london irish'), 0.0728441465),\n",
       " (('communes of the allier department', 'france'), 0.0677567038),\n",
       " (('english premiership (rugby union)', 'saracens f.c.'), 0.0728441465),\n",
       " (('communes of the calvados department', 'departments of france'),\n",
       "  0.0599326332),\n",
       " (('communes of france', 'communes of the yonne department'), 0.0683112897),\n",
       " (('illinois', 'list of cities in illinois'), 0.0683855856),\n",
       " (('communes of the pas-de-calais department', 'nord-pas-de-calais'),\n",
       "  0.060821111),\n",
       " (('communes of france', 'communes of the calvados department'), 0.0599258604),\n",
       " (('english premiership (rugby union)', 'northampton saints'), 0.0745656532),\n",
       " (('communes of france', 'communes of the aisne department'), 0.0610695285),\n",
       " (('communes of the aisne department', 'departments of france'), 0.0611612575),\n",
       " (('communes of the vend\\\\u00e9e department', 'pays de la loire'),\n",
       "  0.0674741639),\n",
       " (('communes of the aisne department', 'france'), 0.0612622746),\n",
       " (('english premiership (rugby union)', 'newcastle falcons'), 0.064769428),\n",
       " (('english premiership (rugby union)', 'harlequin f.c.'), 0.069673536),\n",
       " (('communes of the allier department', 'departments of france'),\n",
       "  0.0674145783),\n",
       " (('communes of france', 'communes of the vend\\\\u00e9e department'),\n",
       "  0.0672877359),\n",
       " (('communes of france', 'communes of the allier department'), 0.067214608),\n",
       " (('communes of the yonne department', 'france'), 0.0685296701)]"
      ]
     },
     "execution_count": 10,
     "metadata": {},
     "output_type": "execute_result"
    }
   ],
   "source": [
    "answer"
   ]
  }
 ],
 "metadata": {
  "kernelspec": {
   "display_name": "Python 2",
   "language": "python",
   "name": "python2"
  },
  "language_info": {
   "codemirror_mode": {
    "name": "ipython",
    "version": 2
   },
   "file_extension": ".py",
   "mimetype": "text/x-python",
   "name": "python",
   "nbconvert_exporter": "python",
   "pygments_lexer": "ipython2",
   "version": "2.7.13"
  }
 },
 "nbformat": 4,
 "nbformat_minor": 2
}
